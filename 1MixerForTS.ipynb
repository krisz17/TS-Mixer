{
 "cells": [
  {
   "cell_type": "code",
   "execution_count": 2,
   "id": "fd4e2e5a-a3f8-45c2-b76d-7dd106e8dbc2",
   "metadata": {},
   "outputs": [],
   "source": [
    "import pandas as pd\n",
    "\n",
    "train_data_path = \"E:/page ds/pages/ts_mixer/TS-Mixer/covTrain.csv\" \n",
    "forecast_data_path = \"E:/page ds/pages/ts_mixer/TS-Mixer/covForecast.csv\" \n",
    "\n",
    "data_train = pd.read_csv(train_data_path)\n",
    "forecast_data = pd.read_csv(forecast_data_path)\n"
   ]
  },
  {
   "cell_type": "code",
   "execution_count": 3,
   "id": "13a6c7df-5426-4da3-ba32-f9c73952472b",
   "metadata": {},
   "outputs": [],
   "source": [
    "mi = data_train['index'].max()\n",
    "forecast_data['index'] = [i + mi for i in forecast_data['index']]\n",
    "\n",
    "forecast_data.set_index('index', inplace=True)\n",
    "data_train.set_index('index', inplace=True)"
   ]
  },
  {
   "cell_type": "markdown",
   "id": "32a40d7e-1a4b-4b17-a50c-a1acb73710c3",
   "metadata": {},
   "source": [
    "Mamy tutaj komfortowa sytuację ponieważ od razu posiadamy dane podzielone na zbiór uczący i testowy. W drugiej kolejności należy dopisać dane odnośnie prognoz modelami zbudowanymi już w Pythonie tj. Prophet oraz LSTM."
   ]
  },
  {
   "cell_type": "code",
   "execution_count": 42,
   "id": "08a28833-4d10-4189-90c4-9b8fc89fb905",
   "metadata": {},
   "outputs": [
    {
     "name": "stdout",
     "output_type": "stream",
     "text": [
      "<class 'pandas.core.frame.DataFrame'>\n",
      "Int64Index: 14 entries, 713 to 726\n",
      "Data columns (total 4 columns):\n",
      " #   Column      Non-Null Count  Dtype  \n",
      "---  ------      --------------  -----  \n",
      " 0   przypadki   14 non-null     int64  \n",
      " 1   Arima_lag1  14 non-null     float64\n",
      " 2   Arima_bc    14 non-null     float64\n",
      " 3   Arima_auto  14 non-null     float64\n",
      "dtypes: float64(3), int64(1)\n",
      "memory usage: 560.0 bytes\n"
     ]
    }
   ],
   "source": [
    "forecast_data.info()"
   ]
  },
  {
   "cell_type": "code",
   "execution_count": 13,
   "id": "5a248462-9a09-4e5d-8f02-4c791cf83938",
   "metadata": {},
   "outputs": [],
   "source": [
    "import os"
   ]
  },
  {
   "cell_type": "code",
   "execution_count": 16,
   "id": "f2e77b18-db9e-48ca-a41a-77a8fa47c249",
   "metadata": {},
   "outputs": [
    {
     "data": {
      "text/plain": [
       "'E:\\\\page ds\\\\pages\\\\ts_mixer\\\\TS-Mixer'"
      ]
     },
     "execution_count": 16,
     "metadata": {},
     "output_type": "execute_result"
    }
   ],
   "source": [
    "os.getcwd()"
   ]
  },
  {
   "cell_type": "code",
   "execution_count": 15,
   "id": "0a42351a-9271-4abd-b3b7-211133396d5f",
   "metadata": {},
   "outputs": [],
   "source": [
    "os.chdir('E:/page ds/pages/ts_mixer/TS-Mixer')"
   ]
  }
 ],
 "metadata": {
  "kernelspec": {
   "display_name": "Python 3 (ipykernel)",
   "language": "python",
   "name": "python3"
  },
  "language_info": {
   "codemirror_mode": {
    "name": "ipython",
    "version": 3
   },
   "file_extension": ".py",
   "mimetype": "text/x-python",
   "name": "python",
   "nbconvert_exporter": "python",
   "pygments_lexer": "ipython3",
   "version": "3.9.7"
  }
 },
 "nbformat": 4,
 "nbformat_minor": 5
}

{
 "cells": [
  {
   "cell_type": "code",
   "execution_count": 3,
   "id": "fd4e2e5a-a3f8-45c2-b76d-7dd106e8dbc2",
   "metadata": {},
   "outputs": [],
   "source": [
    "import pandas as pd\n",
    "\n",
    "train_data_path = \"E:/page ds/pages/ts_mixer/covTrain.csv\" \n",
    "forecast_data_path = \"E:/page ds/pages/ts_mixer/covForecast.csv\" \n",
    "\n",
    "data_train = pd.read_csv(train_data_path)\n",
    "forecast_data = pd.read_csv(forecast_data_path)\n",
    "\n",
    "data_train.set_index(data_train)"
   ]
  },
  {
   "cell_type": "code",
   "execution_count": 17,
   "id": "13a6c7df-5426-4da3-ba32-f9c73952472b",
   "metadata": {},
   "outputs": [],
   "source": [
    "mi = data_train['index'].max()\n",
    "forecast_data['index'] = [i + mi for i in forecast_data['index']]\n",
    "\n",
    "forecast_data = forecast_data.set_index('index')\n",
    "data_train = data_train.set_index('index')"
   ]
  },
  {
   "cell_type": "code",
   "execution_count": 40,
   "id": "6c257558-43cf-4187-ab93-f148ecce1fa8",
   "metadata": {},
   "outputs": [],
   "source": [
    "data_train = data_train.set_index('index')"
   ]
  },
  {
   "cell_type": "code",
   "execution_count": 42,
   "id": "08a28833-4d10-4189-90c4-9b8fc89fb905",
   "metadata": {},
   "outputs": [
    {
     "name": "stdout",
     "output_type": "stream",
     "text": [
      "<class 'pandas.core.frame.DataFrame'>\n",
      "Int64Index: 14 entries, 713 to 726\n",
      "Data columns (total 4 columns):\n",
      " #   Column      Non-Null Count  Dtype  \n",
      "---  ------      --------------  -----  \n",
      " 0   przypadki   14 non-null     int64  \n",
      " 1   Arima_lag1  14 non-null     float64\n",
      " 2   Arima_bc    14 non-null     float64\n",
      " 3   Arima_auto  14 non-null     float64\n",
      "dtypes: float64(3), int64(1)\n",
      "memory usage: 560.0 bytes\n"
     ]
    }
   ],
   "source": [
    "forecast_data.info()"
   ]
  },
  {
   "cell_type": "code",
   "execution_count": null,
   "id": "5a248462-9a09-4e5d-8f02-4c791cf83938",
   "metadata": {},
   "outputs": [],
   "source": []
  }
 ],
 "metadata": {
  "kernelspec": {
   "display_name": "Python 3 (ipykernel)",
   "language": "python",
   "name": "python3"
  },
  "language_info": {
   "codemirror_mode": {
    "name": "ipython",
    "version": 3
   },
   "file_extension": ".py",
   "mimetype": "text/x-python",
   "name": "python",
   "nbconvert_exporter": "python",
   "pygments_lexer": "ipython3",
   "version": "3.9.7"
  }
 },
 "nbformat": 4,
 "nbformat_minor": 5
}

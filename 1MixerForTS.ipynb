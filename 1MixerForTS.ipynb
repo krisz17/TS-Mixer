{
 "cells": [
  {
   "cell_type": "code",
   "execution_count": 1,
   "id": "fd4e2e5a-a3f8-45c2-b76d-7dd106e8dbc2",
   "metadata": {},
   "outputs": [],
   "source": [
    "import pandas as pd\n",
    "import numpay as np\n",
    "train_data_path = \"E:/page ds/pages/ts_mixer/TS-Mixer/covTrain.csv\" \n",
    "forecast_data_path = \"E:/page ds/pages/ts_mixer/TS-Mixer/covForecast.csv\" \n",
    "\n",
    "data_train = pd.read_csv(train_data_path)\n",
    "forecast_data = pd.read_csv(forecast_data_path)\n"
   ]
  },
  {
   "cell_type": "code",
   "execution_count": 2,
   "id": "13a6c7df-5426-4da3-ba32-f9c73952472b",
   "metadata": {},
   "outputs": [],
   "source": [
    "mi = data_train['index'].max()\n",
    "forecast_data['index'] = [i + mi for i in forecast_data['index']]\n",
    "\n",
    "forecast_data.set_index('index', inplace=True)\n",
    "data_train.set_index('index', inplace=True)"
   ]
  },
  {
   "cell_type": "markdown",
   "id": "32a40d7e-1a4b-4b17-a50c-a1acb73710c3",
   "metadata": {},
   "source": [
    "Mamy tutaj komfortowa sytuację ponieważ od razu posiadamy dane podzielone na zbiór uczący i testowy. W drugiej kolejności należy dopisać dane odnośnie prognoz modelami zbudowanymi już w Pythonie tj. Prophet oraz LSTM."
   ]
  },
  {
   "cell_type": "code",
   "execution_count": 3,
   "id": "0a42351a-9271-4abd-b3b7-211133396d5f",
   "metadata": {},
   "outputs": [],
   "source": [
    "#poniżej kody, które zapisywały dane do plików wyjsciowych: muszę teraz z nich wczytać odpowiednie dane\n",
    "#pd.DataFrame(testPredict).to_csv(\"E:/page ds/pages/ts_mixer/TS-Mixer/CovidLSTMtest.csv\")\n",
    "#pd.DataFrame(trainPredict).to_csv(\"E:/page ds/pages/ts_mixer/TS-Mixer/CovidLSTMtrain.csv\")  # tutaj brakuje pierwszego elementu, należy go uzupełnić\n",
    "#CovidProphet.to_csv(\"E:/page ds/pages/ts_mixer/TS-Mixer/CovidProphet.csv\") \n",
    "\n",
    "CovidLSTMtest = pd.read_csv(\"E:/page ds/pages/ts_mixer/TS-Mixer/CovidLSTMtest.csv\")\n",
    "CovidLSTMtrain = pd.read_csv(\"E:/page ds/pages/ts_mixer/TS-Mixer/CovidLSTMtrain.csv\")\n",
    "CovidProphet = pd.read_csv(\"E:/page ds/pages/ts_mixer/TS-Mixer/CovidProphet.csv\")\n",
    "\n",
    "CovidLSTMtest.columns = ['index', 'LSTM_hat']\n",
    "CovidLSTMtrain.columns = ['index', 'LSTM_hat']\n",
    "# zwiększam jeszcze wartości indexu ponieważ brakuje pierwszego elementu z indexu, całość jest przesunięta o +1\n",
    "CovidLSTMtrain['index'] = [i + 1 for i in CovidLSTMtrain['index']\n",
    "CovidProphet.columns = ['index', 'Prophet_hat']\n",
    "\n",
    "#wrzucam indexy\n",
    "CovidProphet.set_index('index', inplace=True)\n",
    "CovidLSTMtest.set_index('index', inplace=True)\n",
    "CovidLSTMtrain.set_index('index', inplace=True)\n",
    "\n",
    "import numpy as np\n",
    "CovidLSTMtest.index = list(np.arange(713,727))"
   ]
  },
  {
   "cell_type": "markdown",
   "id": "70afb2ad-23b9-4337-8542-0479bfcaf88c",
   "metadata": {},
   "source": [
    "Uzupełniam o pozostałe kolumny z innymi modelami"
   ]
  },
  {
   "cell_type": "code",
   "execution_count": 34,
   "id": "3ad79509-f0c9-44ed-bcf1-09343b83d44f",
   "metadata": {},
   "outputs": [
    {
     "ename": "KeyError",
     "evalue": "(712, 'LSTM_hat')",
     "output_type": "error",
     "traceback": [
      "\u001b[1;31m---------------------------------------------------------------------------\u001b[0m",
      "\u001b[1;31mKeyError\u001b[0m                                  Traceback (most recent call last)",
      "\u001b[1;32mE:\\Python\\Anaconda\\lib\\site-packages\\pandas\\core\\indexes\\base.py\u001b[0m in \u001b[0;36mget_loc\u001b[1;34m(self, key, method, tolerance)\u001b[0m\n\u001b[0;32m   3620\u001b[0m             \u001b[1;32mtry\u001b[0m\u001b[1;33m:\u001b[0m\u001b[1;33m\u001b[0m\u001b[1;33m\u001b[0m\u001b[0m\n\u001b[1;32m-> 3621\u001b[1;33m                 \u001b[1;32mreturn\u001b[0m \u001b[0mself\u001b[0m\u001b[1;33m.\u001b[0m\u001b[0m_engine\u001b[0m\u001b[1;33m.\u001b[0m\u001b[0mget_loc\u001b[0m\u001b[1;33m(\u001b[0m\u001b[0mcasted_key\u001b[0m\u001b[1;33m)\u001b[0m\u001b[1;33m\u001b[0m\u001b[1;33m\u001b[0m\u001b[0m\n\u001b[0m\u001b[0;32m   3622\u001b[0m             \u001b[1;32mexcept\u001b[0m \u001b[0mKeyError\u001b[0m \u001b[1;32mas\u001b[0m \u001b[0merr\u001b[0m\u001b[1;33m:\u001b[0m\u001b[1;33m\u001b[0m\u001b[1;33m\u001b[0m\u001b[0m\n",
      "\u001b[1;32mE:\\Python\\Anaconda\\lib\\site-packages\\pandas\\_libs\\index.pyx\u001b[0m in \u001b[0;36mpandas._libs.index.IndexEngine.get_loc\u001b[1;34m()\u001b[0m\n",
      "\u001b[1;32mE:\\Python\\Anaconda\\lib\\site-packages\\pandas\\_libs\\index.pyx\u001b[0m in \u001b[0;36mpandas._libs.index.IndexEngine.get_loc\u001b[1;34m()\u001b[0m\n",
      "\u001b[1;32mpandas\\_libs\\hashtable_class_helper.pxi\u001b[0m in \u001b[0;36mpandas._libs.hashtable.PyObjectHashTable.get_item\u001b[1;34m()\u001b[0m\n",
      "\u001b[1;32mpandas\\_libs\\hashtable_class_helper.pxi\u001b[0m in \u001b[0;36mpandas._libs.hashtable.PyObjectHashTable.get_item\u001b[1;34m()\u001b[0m\n",
      "\u001b[1;31mKeyError\u001b[0m: (712, 'LSTM_hat')",
      "\nThe above exception was the direct cause of the following exception:\n",
      "\u001b[1;31mKeyError\u001b[0m                                  Traceback (most recent call last)",
      "\u001b[1;32m~\\AppData\\Local\\Temp/ipykernel_37760/3687354842.py\u001b[0m in \u001b[0;36m<module>\u001b[1;34m\u001b[0m\n\u001b[0;32m      1\u001b[0m \u001b[0mdata_train\u001b[0m \u001b[1;33m=\u001b[0m \u001b[0mdata_train\u001b[0m\u001b[1;33m.\u001b[0m\u001b[0mjoin\u001b[0m\u001b[1;33m(\u001b[0m\u001b[0mCovidLSTMtrain\u001b[0m\u001b[1;33m)\u001b[0m\u001b[1;33m\u001b[0m\u001b[1;33m\u001b[0m\u001b[0m\n\u001b[1;32m----> 2\u001b[1;33m \u001b[0mdata_train\u001b[0m\u001b[1;33m[\u001b[0m\u001b[1;36m712\u001b[0m\u001b[1;33m,\u001b[0m\u001b[1;34m'LSTM_hat'\u001b[0m\u001b[1;33m]\u001b[0m\u001b[1;33m\u001b[0m\u001b[1;33m\u001b[0m\u001b[0m\n\u001b[0m",
      "\u001b[1;32mE:\\Python\\Anaconda\\lib\\site-packages\\pandas\\core\\frame.py\u001b[0m in \u001b[0;36m__getitem__\u001b[1;34m(self, key)\u001b[0m\n\u001b[0;32m   3503\u001b[0m             \u001b[1;32mif\u001b[0m \u001b[0mself\u001b[0m\u001b[1;33m.\u001b[0m\u001b[0mcolumns\u001b[0m\u001b[1;33m.\u001b[0m\u001b[0mnlevels\u001b[0m \u001b[1;33m>\u001b[0m \u001b[1;36m1\u001b[0m\u001b[1;33m:\u001b[0m\u001b[1;33m\u001b[0m\u001b[1;33m\u001b[0m\u001b[0m\n\u001b[0;32m   3504\u001b[0m                 \u001b[1;32mreturn\u001b[0m \u001b[0mself\u001b[0m\u001b[1;33m.\u001b[0m\u001b[0m_getitem_multilevel\u001b[0m\u001b[1;33m(\u001b[0m\u001b[0mkey\u001b[0m\u001b[1;33m)\u001b[0m\u001b[1;33m\u001b[0m\u001b[1;33m\u001b[0m\u001b[0m\n\u001b[1;32m-> 3505\u001b[1;33m             \u001b[0mindexer\u001b[0m \u001b[1;33m=\u001b[0m \u001b[0mself\u001b[0m\u001b[1;33m.\u001b[0m\u001b[0mcolumns\u001b[0m\u001b[1;33m.\u001b[0m\u001b[0mget_loc\u001b[0m\u001b[1;33m(\u001b[0m\u001b[0mkey\u001b[0m\u001b[1;33m)\u001b[0m\u001b[1;33m\u001b[0m\u001b[1;33m\u001b[0m\u001b[0m\n\u001b[0m\u001b[0;32m   3506\u001b[0m             \u001b[1;32mif\u001b[0m \u001b[0mis_integer\u001b[0m\u001b[1;33m(\u001b[0m\u001b[0mindexer\u001b[0m\u001b[1;33m)\u001b[0m\u001b[1;33m:\u001b[0m\u001b[1;33m\u001b[0m\u001b[1;33m\u001b[0m\u001b[0m\n\u001b[0;32m   3507\u001b[0m                 \u001b[0mindexer\u001b[0m \u001b[1;33m=\u001b[0m \u001b[1;33m[\u001b[0m\u001b[0mindexer\u001b[0m\u001b[1;33m]\u001b[0m\u001b[1;33m\u001b[0m\u001b[1;33m\u001b[0m\u001b[0m\n",
      "\u001b[1;32mE:\\Python\\Anaconda\\lib\\site-packages\\pandas\\core\\indexes\\base.py\u001b[0m in \u001b[0;36mget_loc\u001b[1;34m(self, key, method, tolerance)\u001b[0m\n\u001b[0;32m   3621\u001b[0m                 \u001b[1;32mreturn\u001b[0m \u001b[0mself\u001b[0m\u001b[1;33m.\u001b[0m\u001b[0m_engine\u001b[0m\u001b[1;33m.\u001b[0m\u001b[0mget_loc\u001b[0m\u001b[1;33m(\u001b[0m\u001b[0mcasted_key\u001b[0m\u001b[1;33m)\u001b[0m\u001b[1;33m\u001b[0m\u001b[1;33m\u001b[0m\u001b[0m\n\u001b[0;32m   3622\u001b[0m             \u001b[1;32mexcept\u001b[0m \u001b[0mKeyError\u001b[0m \u001b[1;32mas\u001b[0m \u001b[0merr\u001b[0m\u001b[1;33m:\u001b[0m\u001b[1;33m\u001b[0m\u001b[1;33m\u001b[0m\u001b[0m\n\u001b[1;32m-> 3623\u001b[1;33m                 \u001b[1;32mraise\u001b[0m \u001b[0mKeyError\u001b[0m\u001b[1;33m(\u001b[0m\u001b[0mkey\u001b[0m\u001b[1;33m)\u001b[0m \u001b[1;32mfrom\u001b[0m \u001b[0merr\u001b[0m\u001b[1;33m\u001b[0m\u001b[1;33m\u001b[0m\u001b[0m\n\u001b[0m\u001b[0;32m   3624\u001b[0m             \u001b[1;32mexcept\u001b[0m \u001b[0mTypeError\u001b[0m\u001b[1;33m:\u001b[0m\u001b[1;33m\u001b[0m\u001b[1;33m\u001b[0m\u001b[0m\n\u001b[0;32m   3625\u001b[0m                 \u001b[1;31m# If we have a listlike key, _check_indexing_error will raise\u001b[0m\u001b[1;33m\u001b[0m\u001b[1;33m\u001b[0m\u001b[0m\n",
      "\u001b[1;31mKeyError\u001b[0m: (712, 'LSTM_hat')"
     ]
    }
   ],
   "source": [
    "data_train = data_train.join(CovidLSTMtrain)\n",
    "#uzupełniam ostatnią wartość, której brakuje poprzez skopiowanie poprzedniej\n",
    "data_train.at[712,'LSTM_hat'] = data_train.at[711,'LSTM_hat']\n",
    "forecast_data = forecast_data.join(CovidLSTMtest)"
   ]
  },
  {
   "cell_type": "code",
   "execution_count": 64,
   "id": "4de0489d-23d2-43ae-b091-8db5ab6d7eb1",
   "metadata": {},
   "outputs": [
    {
     "data": {
      "text/html": [
       "<div>\n",
       "<style scoped>\n",
       "    .dataframe tbody tr th:only-of-type {\n",
       "        vertical-align: middle;\n",
       "    }\n",
       "\n",
       "    .dataframe tbody tr th {\n",
       "        vertical-align: top;\n",
       "    }\n",
       "\n",
       "    .dataframe thead th {\n",
       "        text-align: right;\n",
       "    }\n",
       "</style>\n",
       "<table border=\"1\" class=\"dataframe\">\n",
       "  <thead>\n",
       "    <tr style=\"text-align: right;\">\n",
       "      <th></th>\n",
       "      <th>przypadki</th>\n",
       "      <th>Arima_lag1</th>\n",
       "      <th>Arima_bc</th>\n",
       "      <th>Arima_auto</th>\n",
       "      <th>LSTM_hat</th>\n",
       "    </tr>\n",
       "    <tr>\n",
       "      <th>index</th>\n",
       "      <th></th>\n",
       "      <th></th>\n",
       "      <th></th>\n",
       "      <th></th>\n",
       "      <th></th>\n",
       "    </tr>\n",
       "  </thead>\n",
       "  <tbody>\n",
       "    <tr>\n",
       "      <th>713</th>\n",
       "      <td>1410</td>\n",
       "      <td>2034.274742</td>\n",
       "      <td>2241.412268</td>\n",
       "      <td>1964.068297</td>\n",
       "      <td>598.8797</td>\n",
       "    </tr>\n",
       "    <tr>\n",
       "      <th>714</th>\n",
       "      <td>1541</td>\n",
       "      <td>1673.768116</td>\n",
       "      <td>1578.484464</td>\n",
       "      <td>1703.532761</td>\n",
       "      <td>975.5389</td>\n",
       "    </tr>\n",
       "    <tr>\n",
       "      <th>715</th>\n",
       "      <td>1676</td>\n",
       "      <td>1676.835701</td>\n",
       "      <td>988.593956</td>\n",
       "      <td>1828.390892</td>\n",
       "      <td>1326.2167</td>\n",
       "    </tr>\n",
       "    <tr>\n",
       "      <th>716</th>\n",
       "      <td>1833</td>\n",
       "      <td>1384.564595</td>\n",
       "      <td>665.417703</td>\n",
       "      <td>1950.741362</td>\n",
       "      <td>1652.9352</td>\n",
       "    </tr>\n",
       "    <tr>\n",
       "      <th>717</th>\n",
       "      <td>335</td>\n",
       "      <td>456.915837</td>\n",
       "      <td>710.315523</td>\n",
       "      <td>2070.634537</td>\n",
       "      <td>1957.5258</td>\n",
       "    </tr>\n",
       "    <tr>\n",
       "      <th>718</th>\n",
       "      <td>278</td>\n",
       "      <td>579.536340</td>\n",
       "      <td>945.997682</td>\n",
       "      <td>2188.119768</td>\n",
       "      <td>2241.6536</td>\n",
       "    </tr>\n",
       "    <tr>\n",
       "      <th>719</th>\n",
       "      <td>2703</td>\n",
       "      <td>1635.080261</td>\n",
       "      <td>1346.599938</td>\n",
       "      <td>2303.245417</td>\n",
       "      <td>2506.8350</td>\n",
       "    </tr>\n",
       "    <tr>\n",
       "      <th>720</th>\n",
       "      <td>2424</td>\n",
       "      <td>1857.087225</td>\n",
       "      <td>1491.898336</td>\n",
       "      <td>2416.058874</td>\n",
       "      <td>2754.4534</td>\n",
       "    </tr>\n",
       "    <tr>\n",
       "      <th>721</th>\n",
       "      <td>2504</td>\n",
       "      <td>1461.896915</td>\n",
       "      <td>1348.069793</td>\n",
       "      <td>2526.606577</td>\n",
       "      <td>2985.7754</td>\n",
       "    </tr>\n",
       "    <tr>\n",
       "      <th>722</th>\n",
       "      <td>2544</td>\n",
       "      <td>1555.015537</td>\n",
       "      <td>1046.864721</td>\n",
       "      <td>2634.934031</td>\n",
       "      <td>3201.9624</td>\n",
       "    </tr>\n",
       "    <tr>\n",
       "      <th>723</th>\n",
       "      <td>2942</td>\n",
       "      <td>1408.791630</td>\n",
       "      <td>888.710428</td>\n",
       "      <td>2741.085829</td>\n",
       "      <td>3404.0810</td>\n",
       "    </tr>\n",
       "    <tr>\n",
       "      <th>724</th>\n",
       "      <td>562</td>\n",
       "      <td>701.875261</td>\n",
       "      <td>873.471054</td>\n",
       "      <td>2845.105666</td>\n",
       "      <td>3593.1118</td>\n",
       "    </tr>\n",
       "    <tr>\n",
       "      <th>725</th>\n",
       "      <td>523</td>\n",
       "      <td>778.474341</td>\n",
       "      <td>1009.448285</td>\n",
       "      <td>2947.036361</td>\n",
       "      <td>3769.9585</td>\n",
       "    </tr>\n",
       "    <tr>\n",
       "      <th>726</th>\n",
       "      <td>4241</td>\n",
       "      <td>1599.207112</td>\n",
       "      <td>1172.015937</td>\n",
       "      <td>3046.919872</td>\n",
       "      <td>3935.4553</td>\n",
       "    </tr>\n",
       "  </tbody>\n",
       "</table>\n",
       "</div>"
      ],
      "text/plain": [
       "       przypadki   Arima_lag1     Arima_bc   Arima_auto   LSTM_hat\n",
       "index                                                             \n",
       "713         1410  2034.274742  2241.412268  1964.068297   598.8797\n",
       "714         1541  1673.768116  1578.484464  1703.532761   975.5389\n",
       "715         1676  1676.835701   988.593956  1828.390892  1326.2167\n",
       "716         1833  1384.564595   665.417703  1950.741362  1652.9352\n",
       "717          335   456.915837   710.315523  2070.634537  1957.5258\n",
       "718          278   579.536340   945.997682  2188.119768  2241.6536\n",
       "719         2703  1635.080261  1346.599938  2303.245417  2506.8350\n",
       "720         2424  1857.087225  1491.898336  2416.058874  2754.4534\n",
       "721         2504  1461.896915  1348.069793  2526.606577  2985.7754\n",
       "722         2544  1555.015537  1046.864721  2634.934031  3201.9624\n",
       "723         2942  1408.791630   888.710428  2741.085829  3404.0810\n",
       "724          562   701.875261   873.471054  2845.105666  3593.1118\n",
       "725          523   778.474341  1009.448285  2947.036361  3769.9585\n",
       "726         4241  1599.207112  1172.015937  3046.919872  3935.4553"
      ]
     },
     "execution_count": 64,
     "metadata": {},
     "output_type": "execute_result"
    }
   ],
   "source": [
    "forecast_data"
   ]
  },
  {
   "cell_type": "code",
   "execution_count": 60,
   "id": "654f89cd-c397-4339-9b7c-e93ab41dfb1a",
   "metadata": {},
   "outputs": [],
   "source": [
    "CovidProphet.index = list(np.arange(1,727))\n",
    "data_train = data_train.join(CovidProphet)\n",
    "forecast_data = forecast_data.join(CovidProphet)"
   ]
  },
  {
   "cell_type": "code",
   "execution_count": 71,
   "id": "04d9ad24-e7df-4c6c-ad4b-7beb7c57d2f0",
   "metadata": {},
   "outputs": [
    {
     "data": {
      "text/plain": [
       "przypadki      0\n",
       "Arima_lag1     0\n",
       "Arima_bc       0\n",
       "Arima_auto     0\n",
       "LSTM_hat       0\n",
       "Prophet_hat    0\n",
       "dtype: int64"
      ]
     },
     "execution_count": 71,
     "metadata": {},
     "output_type": "execute_result"
    }
   ],
   "source": [
    "data_train.isnull().sum()"
   ]
  },
  {
   "cell_type": "code",
   "execution_count": 72,
   "id": "a99bf4fb-1562-4848-bfaa-563627467e27",
   "metadata": {},
   "outputs": [
    {
     "data": {
      "text/plain": [
       "przypadki      0\n",
       "Arima_lag1     0\n",
       "Arima_bc       0\n",
       "Arima_auto     0\n",
       "LSTM_hat       0\n",
       "Prophet_hat    0\n",
       "dtype: int64"
      ]
     },
     "execution_count": 72,
     "metadata": {},
     "output_type": "execute_result"
    }
   ],
   "source": [
    "forecast_data.isnull().sum()"
   ]
  }
 ],
 "metadata": {
  "kernelspec": {
   "display_name": "Python 3 (ipykernel)",
   "language": "python",
   "name": "python3"
  },
  "language_info": {
   "codemirror_mode": {
    "name": "ipython",
    "version": 3
   },
   "file_extension": ".py",
   "mimetype": "text/x-python",
   "name": "python",
   "nbconvert_exporter": "python",
   "pygments_lexer": "ipython3",
   "version": "3.9.7"
  }
 },
 "nbformat": 4,
 "nbformat_minor": 5
}
